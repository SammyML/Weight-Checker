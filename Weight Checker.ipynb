{
 "cells": [
  {
   "cell_type": "code",
   "execution_count": null,
   "id": "f417210d",
   "metadata": {},
   "outputs": [],
   "source": [
    "##define the function\n",
    "def weight_checker(weight):\n",
    "    if weight<70:\n",
    "        print('ok')\n",
    "    else:\n",
    "        weight=(weight-70)\n",
    "        points=(weight//5)\n",
    "        print('points:',points)\n",
    "        if points>12:\n",
    "            print('obesity')\n",
    "weight=int(input('Enter the weight'))         \n",
    "weight_checker(weight)"
   ]
  }
 ],
 "metadata": {
  "kernelspec": {
   "display_name": "Python 3 (ipykernel)",
   "language": "python",
   "name": "python3"
  },
  "language_info": {
   "codemirror_mode": {
    "name": "ipython",
    "version": 3
   },
   "file_extension": ".py",
   "mimetype": "text/x-python",
   "name": "python",
   "nbconvert_exporter": "python",
   "pygments_lexer": "ipython3",
   "version": "3.8.8"
  }
 },
 "nbformat": 4,
 "nbformat_minor": 5
}
